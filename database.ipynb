{
 "cells": [
  {
   "cell_type": "markdown",
   "id": "ea4b710f",
   "metadata": {},
   "source": [
    "## Importacion de las librerias necesarias"
   ]
  },
  {
   "cell_type": "code",
   "execution_count": 1,
   "id": "72625d10",
   "metadata": {},
   "outputs": [],
   "source": [
    "import psycopg2\n",
    "import pandas as pd\n",
    "from sqlalchemy import create_engine\n",
    "import pymysql\n",
    "import MySQLdb\n",
    "import matplotlib.pyplot as plt\n",
    "import numpy as np\n",
    "import datetime\n",
    "from matplotlib.dates import drange"
   ]
  },
  {
   "cell_type": "markdown",
   "id": "f8df9740",
   "metadata": {},
   "source": [
    "## Parametros para establecer conexion con la base de datos"
   ]
  },
  {
   "cell_type": "code",
   "execution_count": 2,
   "id": "8014834f",
   "metadata": {},
   "outputs": [],
   "source": [
    "db_data = 'mysql+mysqldb://' + 'root' + ':' + 'M4110rca' + '@' + 'localhost' + ':3306/' \\\n",
    "       + 'primeit' + '?charset=utf8mb4'"
   ]
  },
  {
   "cell_type": "markdown",
   "id": "7dcaf519",
   "metadata": {},
   "source": [
    "## Creacion de conexion con la base de datos"
   ]
  },
  {
   "cell_type": "code",
   "execution_count": 3,
   "id": "f292cfa7",
   "metadata": {},
   "outputs": [],
   "source": [
    "engine = create_engine(db_data)"
   ]
  },
  {
   "cell_type": "markdown",
   "id": "9bc8446c",
   "metadata": {},
   "source": [
    "## Carga de la tabla de la base de datos"
   ]
  },
  {
   "cell_type": "code",
   "execution_count": 4,
   "id": "4c359789",
   "metadata": {},
   "outputs": [
    {
     "data": {
      "text/html": [
       "<div>\n",
       "<style scoped>\n",
       "    .dataframe tbody tr th:only-of-type {\n",
       "        vertical-align: middle;\n",
       "    }\n",
       "\n",
       "    .dataframe tbody tr th {\n",
       "        vertical-align: top;\n",
       "    }\n",
       "\n",
       "    .dataframe thead th {\n",
       "        text-align: right;\n",
       "    }\n",
       "</style>\n",
       "<table border=\"1\" class=\"dataframe\">\n",
       "  <thead>\n",
       "    <tr style=\"text-align: right;\">\n",
       "      <th></th>\n",
       "      <th>id_reserva</th>\n",
       "      <th>fecha_reserva</th>\n",
       "      <th>pvp_reserva</th>\n",
       "      <th>coste_reserva</th>\n",
       "    </tr>\n",
       "  </thead>\n",
       "  <tbody>\n",
       "    <tr>\n",
       "      <th>0</th>\n",
       "      <td>72000000</td>\n",
       "      <td>1/8/2022</td>\n",
       "      <td>799,57</td>\n",
       "      <td>794,68</td>\n",
       "    </tr>\n",
       "    <tr>\n",
       "      <th>1</th>\n",
       "      <td>72000001</td>\n",
       "      <td>1/8/2022</td>\n",
       "      <td>832</td>\n",
       "      <td>806,82</td>\n",
       "    </tr>\n",
       "    <tr>\n",
       "      <th>2</th>\n",
       "      <td>72000002</td>\n",
       "      <td>1/8/2022</td>\n",
       "      <td>890</td>\n",
       "      <td>864</td>\n",
       "    </tr>\n",
       "    <tr>\n",
       "      <th>3</th>\n",
       "      <td>72000003</td>\n",
       "      <td>1/8/2022</td>\n",
       "      <td>686,72</td>\n",
       "      <td>672,99</td>\n",
       "    </tr>\n",
       "    <tr>\n",
       "      <th>4</th>\n",
       "      <td>72000004</td>\n",
       "      <td>1/8/2022</td>\n",
       "      <td>1053</td>\n",
       "      <td>1022</td>\n",
       "    </tr>\n",
       "  </tbody>\n",
       "</table>\n",
       "</div>"
      ],
      "text/plain": [
       "   id_reserva fecha_reserva pvp_reserva coste_reserva\n",
       "0    72000000      1/8/2022      799,57        794,68\n",
       "1    72000001      1/8/2022         832        806,82\n",
       "2    72000002      1/8/2022         890           864\n",
       "3    72000003      1/8/2022      686,72        672,99\n",
       "4    72000004      1/8/2022        1053          1022"
      ]
     },
     "execution_count": 4,
     "metadata": {},
     "output_type": "execute_result"
    }
   ],
   "source": [
    "df_from_db = pd.read_sql_table('prueba_analisisdatos', engine)\n",
    "df_from_db.head(5)"
   ]
  },
  {
   "cell_type": "markdown",
   "id": "ceeb7323",
   "metadata": {},
   "source": [
    "## Limpieza y transformacion de datos"
   ]
  },
  {
   "cell_type": "code",
   "execution_count": 5,
   "id": "8dd765e3",
   "metadata": {},
   "outputs": [],
   "source": [
    "def clean_and_transform_data(data):\n",
    "    data['fecha_reserva'] = pd.to_datetime(data['fecha_reserva'], errors ='coerce', format = \"%d/%m/%Y\")\n",
    "    data['coste_reserva'] = data['coste_reserva'].apply(lambda x: float(x.split()[0].replace(',', '.')))\n",
    "    data['pvp_reserva'] = data['pvp_reserva'].apply(lambda x: float(x.split()[0].replace(',', '.')))\n",
    "    \n",
    "    return data"
   ]
  },
  {
   "cell_type": "code",
   "execution_count": 6,
   "id": "fa4f4831",
   "metadata": {},
   "outputs": [
    {
     "data": {
      "text/html": [
       "<div>\n",
       "<style scoped>\n",
       "    .dataframe tbody tr th:only-of-type {\n",
       "        vertical-align: middle;\n",
       "    }\n",
       "\n",
       "    .dataframe tbody tr th {\n",
       "        vertical-align: top;\n",
       "    }\n",
       "\n",
       "    .dataframe thead th {\n",
       "        text-align: right;\n",
       "    }\n",
       "</style>\n",
       "<table border=\"1\" class=\"dataframe\">\n",
       "  <thead>\n",
       "    <tr style=\"text-align: right;\">\n",
       "      <th></th>\n",
       "      <th>id_reserva</th>\n",
       "      <th>fecha_reserva</th>\n",
       "      <th>pvp_reserva</th>\n",
       "      <th>coste_reserva</th>\n",
       "    </tr>\n",
       "  </thead>\n",
       "  <tbody>\n",
       "    <tr>\n",
       "      <th>0</th>\n",
       "      <td>72000000</td>\n",
       "      <td>2022-08-01</td>\n",
       "      <td>799.57</td>\n",
       "      <td>794.68</td>\n",
       "    </tr>\n",
       "    <tr>\n",
       "      <th>1</th>\n",
       "      <td>72000001</td>\n",
       "      <td>2022-08-01</td>\n",
       "      <td>832.00</td>\n",
       "      <td>806.82</td>\n",
       "    </tr>\n",
       "    <tr>\n",
       "      <th>2</th>\n",
       "      <td>72000002</td>\n",
       "      <td>2022-08-01</td>\n",
       "      <td>890.00</td>\n",
       "      <td>864.00</td>\n",
       "    </tr>\n",
       "    <tr>\n",
       "      <th>3</th>\n",
       "      <td>72000003</td>\n",
       "      <td>2022-08-01</td>\n",
       "      <td>686.72</td>\n",
       "      <td>672.99</td>\n",
       "    </tr>\n",
       "    <tr>\n",
       "      <th>4</th>\n",
       "      <td>72000004</td>\n",
       "      <td>2022-08-01</td>\n",
       "      <td>1053.00</td>\n",
       "      <td>1022.00</td>\n",
       "    </tr>\n",
       "    <tr>\n",
       "      <th>...</th>\n",
       "      <td>...</td>\n",
       "      <td>...</td>\n",
       "      <td>...</td>\n",
       "      <td>...</td>\n",
       "    </tr>\n",
       "    <tr>\n",
       "      <th>132764</th>\n",
       "      <td>72135785</td>\n",
       "      <td>2022-08-31</td>\n",
       "      <td>1522.43</td>\n",
       "      <td>219.23</td>\n",
       "    </tr>\n",
       "    <tr>\n",
       "      <th>132765</th>\n",
       "      <td>72135786</td>\n",
       "      <td>2022-08-31</td>\n",
       "      <td>2327.78</td>\n",
       "      <td>344.05</td>\n",
       "    </tr>\n",
       "    <tr>\n",
       "      <th>132766</th>\n",
       "      <td>72135787</td>\n",
       "      <td>2022-08-31</td>\n",
       "      <td>4597.00</td>\n",
       "      <td>492.94</td>\n",
       "    </tr>\n",
       "    <tr>\n",
       "      <th>132767</th>\n",
       "      <td>72135788</td>\n",
       "      <td>2022-08-31</td>\n",
       "      <td>1297.42</td>\n",
       "      <td>173.78</td>\n",
       "    </tr>\n",
       "    <tr>\n",
       "      <th>132768</th>\n",
       "      <td>72135789</td>\n",
       "      <td>2022-08-31</td>\n",
       "      <td>2070.10</td>\n",
       "      <td>209.45</td>\n",
       "    </tr>\n",
       "  </tbody>\n",
       "</table>\n",
       "<p>132769 rows × 4 columns</p>\n",
       "</div>"
      ],
      "text/plain": [
       "        id_reserva fecha_reserva  pvp_reserva  coste_reserva\n",
       "0         72000000    2022-08-01       799.57         794.68\n",
       "1         72000001    2022-08-01       832.00         806.82\n",
       "2         72000002    2022-08-01       890.00         864.00\n",
       "3         72000003    2022-08-01       686.72         672.99\n",
       "4         72000004    2022-08-01      1053.00        1022.00\n",
       "...            ...           ...          ...            ...\n",
       "132764    72135785    2022-08-31      1522.43         219.23\n",
       "132765    72135786    2022-08-31      2327.78         344.05\n",
       "132766    72135787    2022-08-31      4597.00         492.94\n",
       "132767    72135788    2022-08-31      1297.42         173.78\n",
       "132768    72135789    2022-08-31      2070.10         209.45\n",
       "\n",
       "[132769 rows x 4 columns]"
      ]
     },
     "execution_count": 6,
     "metadata": {},
     "output_type": "execute_result"
    }
   ],
   "source": [
    "df_from_db = clean_and_transform_data(df_from_db)\n",
    "df_from_db"
   ]
  },
  {
   "cell_type": "markdown",
   "id": "34e1ae27",
   "metadata": {},
   "source": [
    "## Propiedades estadisticas de la tabla df_from_db"
   ]
  },
  {
   "cell_type": "code",
   "execution_count": 7,
   "id": "ea8ee4e7",
   "metadata": {},
   "outputs": [
    {
     "data": {
      "text/html": [
       "<div>\n",
       "<style scoped>\n",
       "    .dataframe tbody tr th:only-of-type {\n",
       "        vertical-align: middle;\n",
       "    }\n",
       "\n",
       "    .dataframe tbody tr th {\n",
       "        vertical-align: top;\n",
       "    }\n",
       "\n",
       "    .dataframe thead th {\n",
       "        text-align: right;\n",
       "    }\n",
       "</style>\n",
       "<table border=\"1\" class=\"dataframe\">\n",
       "  <thead>\n",
       "    <tr style=\"text-align: right;\">\n",
       "      <th></th>\n",
       "      <th>id_reserva</th>\n",
       "      <th>pvp_reserva</th>\n",
       "      <th>coste_reserva</th>\n",
       "    </tr>\n",
       "  </thead>\n",
       "  <tbody>\n",
       "    <tr>\n",
       "      <th>count</th>\n",
       "      <td>1.327690e+05</td>\n",
       "      <td>132769.000000</td>\n",
       "      <td>132769.000000</td>\n",
       "    </tr>\n",
       "    <tr>\n",
       "      <th>mean</th>\n",
       "      <td>7.206688e+07</td>\n",
       "      <td>645.979911</td>\n",
       "      <td>604.443439</td>\n",
       "    </tr>\n",
       "    <tr>\n",
       "      <th>std</th>\n",
       "      <td>3.905166e+04</td>\n",
       "      <td>908.005855</td>\n",
       "      <td>992.038993</td>\n",
       "    </tr>\n",
       "    <tr>\n",
       "      <th>min</th>\n",
       "      <td>7.200000e+07</td>\n",
       "      <td>-248.210000</td>\n",
       "      <td>-532.160000</td>\n",
       "    </tr>\n",
       "    <tr>\n",
       "      <th>25%</th>\n",
       "      <td>7.203319e+07</td>\n",
       "      <td>154.000000</td>\n",
       "      <td>146.630000</td>\n",
       "    </tr>\n",
       "    <tr>\n",
       "      <th>50%</th>\n",
       "      <td>7.206638e+07</td>\n",
       "      <td>356.710000</td>\n",
       "      <td>340.920000</td>\n",
       "    </tr>\n",
       "    <tr>\n",
       "      <th>75%</th>\n",
       "      <td>7.209958e+07</td>\n",
       "      <td>790.000000</td>\n",
       "      <td>748.550000</td>\n",
       "    </tr>\n",
       "    <tr>\n",
       "      <th>max</th>\n",
       "      <td>7.213579e+07</td>\n",
       "      <td>49205.000000</td>\n",
       "      <td>102633.950000</td>\n",
       "    </tr>\n",
       "  </tbody>\n",
       "</table>\n",
       "</div>"
      ],
      "text/plain": [
       "         id_reserva    pvp_reserva  coste_reserva\n",
       "count  1.327690e+05  132769.000000  132769.000000\n",
       "mean   7.206688e+07     645.979911     604.443439\n",
       "std    3.905166e+04     908.005855     992.038993\n",
       "min    7.200000e+07    -248.210000    -532.160000\n",
       "25%    7.203319e+07     154.000000     146.630000\n",
       "50%    7.206638e+07     356.710000     340.920000\n",
       "75%    7.209958e+07     790.000000     748.550000\n",
       "max    7.213579e+07   49205.000000  102633.950000"
      ]
     },
     "execution_count": 7,
     "metadata": {},
     "output_type": "execute_result"
    }
   ],
   "source": [
    "df_from_db.describe()"
   ]
  },
  {
   "cell_type": "markdown",
   "id": "ef36577d",
   "metadata": {},
   "source": [
    "## Cantidad Vendida y Cantidad ganada durante el mes"
   ]
  },
  {
   "cell_type": "code",
   "execution_count": 44,
   "id": "ce88afbc",
   "metadata": {},
   "outputs": [
    {
     "name": "stdout",
     "output_type": "stream",
     "text": [
      "Cantidad Vendida: 85766106.83\n",
      "Cantidad ganada: 5514755.860000014\n"
     ]
    }
   ],
   "source": [
    "Ganancias_mes = df_from_db['pvp_reserva'].sum() - df_from_db['coste_reserva'].sum()\n",
    "print('Cantidad Vendida:',df_from_db['pvp_reserva'].sum())\n",
    "print('Cantidad ganada:',Ganancias_mes)"
   ]
  },
  {
   "cell_type": "markdown",
   "id": "bd0f1f52",
   "metadata": {},
   "source": [
    "## Grafica de la evolucion temporal de la ventas"
   ]
  },
  {
   "cell_type": "code",
   "execution_count": 9,
   "id": "c6e9b0a4",
   "metadata": {},
   "outputs": [
    {
     "data": {
      "image/png": "[encoded data removed]",
      "text/plain": [
       "<Figure size 1080x576 with 1 Axes>"
      ]
     },
     "metadata": {
      "needs_background": "light"
     },
     "output_type": "display_data"
    }
   ],
   "source": [
    "xpoints = df_from_db['fecha_reserva']\n",
    "ypoints = df_from_db['pvp_reserva']\n",
    "\n",
    "plt.figure(figsize=(15,8))\n",
    "plt.plot(xpoints, ypoints)\n",
    "plt.show()"
   ]
  },
  {
   "cell_type": "markdown",
   "id": "926a094c",
   "metadata": {},
   "source": [
    "## Outliers encontrado en la columna pvp_reserva"
   ]
  },
  {
   "cell_type": "code",
   "execution_count": 10,
   "id": "898436f5",
   "metadata": {},
   "outputs": [
    {
     "data": {
      "text/html": [
       "<div>\n",
       "<style scoped>\n",
       "    .dataframe tbody tr th:only-of-type {\n",
       "        vertical-align: middle;\n",
       "    }\n",
       "\n",
       "    .dataframe tbody tr th {\n",
       "        vertical-align: top;\n",
       "    }\n",
       "\n",
       "    .dataframe thead th {\n",
       "        text-align: right;\n",
       "    }\n",
       "</style>\n",
       "<table border=\"1\" class=\"dataframe\">\n",
       "  <thead>\n",
       "    <tr style=\"text-align: right;\">\n",
       "      <th></th>\n",
       "      <th>id_reserva</th>\n",
       "      <th>fecha_reserva</th>\n",
       "      <th>pvp_reserva</th>\n",
       "      <th>coste_reserva</th>\n",
       "    </tr>\n",
       "  </thead>\n",
       "  <tbody>\n",
       "    <tr>\n",
       "      <th>72822</th>\n",
       "      <td>72072822</td>\n",
       "      <td>2022-08-17</td>\n",
       "      <td>-248.21</td>\n",
       "      <td>0.0</td>\n",
       "    </tr>\n",
       "  </tbody>\n",
       "</table>\n",
       "</div>"
      ],
      "text/plain": [
       "       id_reserva fecha_reserva  pvp_reserva  coste_reserva\n",
       "72822    72072822    2022-08-17      -248.21            0.0"
      ]
     },
     "execution_count": 10,
     "metadata": {},
     "output_type": "execute_result"
    }
   ],
   "source": [
    "df_from_db[df_from_db['pvp_reserva'] == -248.21]"
   ]
  },
  {
   "cell_type": "markdown",
   "id": "88ccd0df",
   "metadata": {},
   "source": [
    "## Outliers encontrados en la columna coste_reserva \n",
    "## Vemos que hay valores negativos para los costes de reserva"
   ]
  },
  {
   "cell_type": "code",
   "execution_count": 11,
   "id": "f233de4e",
   "metadata": {},
   "outputs": [
    {
     "data": {
      "text/html": [
       "<div>\n",
       "<style scoped>\n",
       "    .dataframe tbody tr th:only-of-type {\n",
       "        vertical-align: middle;\n",
       "    }\n",
       "\n",
       "    .dataframe tbody tr th {\n",
       "        vertical-align: top;\n",
       "    }\n",
       "\n",
       "    .dataframe thead th {\n",
       "        text-align: right;\n",
       "    }\n",
       "</style>\n",
       "<table border=\"1\" class=\"dataframe\">\n",
       "  <thead>\n",
       "    <tr style=\"text-align: right;\">\n",
       "      <th></th>\n",
       "      <th>id_reserva</th>\n",
       "      <th>fecha_reserva</th>\n",
       "      <th>pvp_reserva</th>\n",
       "      <th>coste_reserva</th>\n",
       "    </tr>\n",
       "  </thead>\n",
       "  <tbody>\n",
       "    <tr>\n",
       "      <th>53284</th>\n",
       "      <td>72053284</td>\n",
       "      <td>2022-08-12</td>\n",
       "      <td>0.00</td>\n",
       "      <td>-0.14</td>\n",
       "    </tr>\n",
       "    <tr>\n",
       "      <th>54369</th>\n",
       "      <td>72054369</td>\n",
       "      <td>2022-08-12</td>\n",
       "      <td>3527.00</td>\n",
       "      <td>-532.16</td>\n",
       "    </tr>\n",
       "    <tr>\n",
       "      <th>86864</th>\n",
       "      <td>72086864</td>\n",
       "      <td>2022-08-20</td>\n",
       "      <td>-23.01</td>\n",
       "      <td>-27.59</td>\n",
       "    </tr>\n",
       "    <tr>\n",
       "      <th>88053</th>\n",
       "      <td>72088053</td>\n",
       "      <td>2022-08-20</td>\n",
       "      <td>23.00</td>\n",
       "      <td>-1.00</td>\n",
       "    </tr>\n",
       "    <tr>\n",
       "      <th>93941</th>\n",
       "      <td>72093941</td>\n",
       "      <td>2022-08-22</td>\n",
       "      <td>0.00</td>\n",
       "      <td>-84.00</td>\n",
       "    </tr>\n",
       "    <tr>\n",
       "      <th>93962</th>\n",
       "      <td>72093962</td>\n",
       "      <td>2022-08-22</td>\n",
       "      <td>0.00</td>\n",
       "      <td>-84.00</td>\n",
       "    </tr>\n",
       "  </tbody>\n",
       "</table>\n",
       "</div>"
      ],
      "text/plain": [
       "       id_reserva fecha_reserva  pvp_reserva  coste_reserva\n",
       "53284    72053284    2022-08-12         0.00          -0.14\n",
       "54369    72054369    2022-08-12      3527.00        -532.16\n",
       "86864    72086864    2022-08-20       -23.01         -27.59\n",
       "88053    72088053    2022-08-20        23.00          -1.00\n",
       "93941    72093941    2022-08-22         0.00         -84.00\n",
       "93962    72093962    2022-08-22         0.00         -84.00"
      ]
     },
     "execution_count": 11,
     "metadata": {},
     "output_type": "execute_result"
    }
   ],
   "source": [
    "df_from_db[df_from_db['coste_reserva'] < 0]"
   ]
  },
  {
   "cell_type": "markdown",
   "id": "c6043b1b",
   "metadata": {},
   "source": [
    "## Filtros de la data por fines de semana"
   ]
  },
  {
   "cell_type": "code",
   "execution_count": 26,
   "id": "5c0c0ae6",
   "metadata": {},
   "outputs": [],
   "source": [
    "df_primer_weekend = df_from_db[(df_from_db.fecha_reserva >= '2022-08-05') & (df_from_db.fecha_reserva <= '2022-08-07') ]"
   ]
  },
  {
   "cell_type": "code",
   "execution_count": 27,
   "id": "6be446d6",
   "metadata": {},
   "outputs": [],
   "source": [
    "df_segundo_weekend = df_from_db[(df_from_db.fecha_reserva >= '2022-08-12') & (df_from_db.fecha_reserva <= '2022-08-14') ]"
   ]
  },
  {
   "cell_type": "code",
   "execution_count": 28,
   "id": "b3cd2e7a",
   "metadata": {},
   "outputs": [],
   "source": [
    "df_tercer_weekend = df_from_db[(df_from_db.fecha_reserva >= '2022-08-19') & (df_from_db.fecha_reserva <= '2022-08-21') ]"
   ]
  },
  {
   "cell_type": "code",
   "execution_count": 29,
   "id": "8d000bed",
   "metadata": {},
   "outputs": [],
   "source": [
    "df_cuarto_weekend = df_from_db[(df_from_db.fecha_reserva >= '2022-08-26') & (df_from_db.fecha_reserva <= '2022-08-28') ]"
   ]
  },
  {
   "cell_type": "markdown",
   "id": "a370b9df",
   "metadata": {},
   "source": [
    "## Data historica de los fines de semana"
   ]
  },
  {
   "cell_type": "code",
   "execution_count": 39,
   "id": "cb04610b",
   "metadata": {},
   "outputs": [
    {
     "data": {
      "text/html": [
       "<div>\n",
       "<style scoped>\n",
       "    .dataframe tbody tr th:only-of-type {\n",
       "        vertical-align: middle;\n",
       "    }\n",
       "\n",
       "    .dataframe tbody tr th {\n",
       "        vertical-align: top;\n",
       "    }\n",
       "\n",
       "    .dataframe thead th {\n",
       "        text-align: right;\n",
       "    }\n",
       "</style>\n",
       "<table border=\"1\" class=\"dataframe\">\n",
       "  <thead>\n",
       "    <tr style=\"text-align: right;\">\n",
       "      <th></th>\n",
       "      <th>id_reserva</th>\n",
       "      <th>fecha_reserva</th>\n",
       "      <th>pvp_reserva</th>\n",
       "      <th>coste_reserva</th>\n",
       "    </tr>\n",
       "  </thead>\n",
       "  <tbody>\n",
       "    <tr>\n",
       "      <th>21020</th>\n",
       "      <td>72021020</td>\n",
       "      <td>2022-08-05</td>\n",
       "      <td>498.00</td>\n",
       "      <td>447.98</td>\n",
       "    </tr>\n",
       "    <tr>\n",
       "      <th>21021</th>\n",
       "      <td>72021021</td>\n",
       "      <td>2022-08-05</td>\n",
       "      <td>334.92</td>\n",
       "      <td>334.92</td>\n",
       "    </tr>\n",
       "    <tr>\n",
       "      <th>21022</th>\n",
       "      <td>72021022</td>\n",
       "      <td>2022-08-05</td>\n",
       "      <td>212.70</td>\n",
       "      <td>200.34</td>\n",
       "    </tr>\n",
       "    <tr>\n",
       "      <th>21023</th>\n",
       "      <td>72021023</td>\n",
       "      <td>2022-08-05</td>\n",
       "      <td>136.68</td>\n",
       "      <td>132.99</td>\n",
       "    </tr>\n",
       "    <tr>\n",
       "      <th>21024</th>\n",
       "      <td>72021024</td>\n",
       "      <td>2022-08-05</td>\n",
       "      <td>94.61</td>\n",
       "      <td>91.11</td>\n",
       "    </tr>\n",
       "    <tr>\n",
       "      <th>...</th>\n",
       "      <td>...</td>\n",
       "      <td>...</td>\n",
       "      <td>...</td>\n",
       "      <td>...</td>\n",
       "    </tr>\n",
       "    <tr>\n",
       "      <th>132592</th>\n",
       "      <td>72135613</td>\n",
       "      <td>2022-08-28</td>\n",
       "      <td>2582.04</td>\n",
       "      <td>968.65</td>\n",
       "    </tr>\n",
       "    <tr>\n",
       "      <th>132593</th>\n",
       "      <td>72135614</td>\n",
       "      <td>2022-08-28</td>\n",
       "      <td>1457.25</td>\n",
       "      <td>635.87</td>\n",
       "    </tr>\n",
       "    <tr>\n",
       "      <th>132594</th>\n",
       "      <td>72135615</td>\n",
       "      <td>2022-08-28</td>\n",
       "      <td>2733.40</td>\n",
       "      <td>1515.07</td>\n",
       "    </tr>\n",
       "    <tr>\n",
       "      <th>132595</th>\n",
       "      <td>72135616</td>\n",
       "      <td>2022-08-28</td>\n",
       "      <td>1551.56</td>\n",
       "      <td>1080.38</td>\n",
       "    </tr>\n",
       "    <tr>\n",
       "      <th>132596</th>\n",
       "      <td>72135617</td>\n",
       "      <td>2022-08-28</td>\n",
       "      <td>1692.38</td>\n",
       "      <td>1416.63</td>\n",
       "    </tr>\n",
       "  </tbody>\n",
       "</table>\n",
       "<p>38176 rows × 4 columns</p>\n",
       "</div>"
      ],
      "text/plain": [
       "        id_reserva fecha_reserva  pvp_reserva  coste_reserva\n",
       "21020     72021020    2022-08-05       498.00         447.98\n",
       "21021     72021021    2022-08-05       334.92         334.92\n",
       "21022     72021022    2022-08-05       212.70         200.34\n",
       "21023     72021023    2022-08-05       136.68         132.99\n",
       "21024     72021024    2022-08-05        94.61          91.11\n",
       "...            ...           ...          ...            ...\n",
       "132592    72135613    2022-08-28      2582.04         968.65\n",
       "132593    72135614    2022-08-28      1457.25         635.87\n",
       "132594    72135615    2022-08-28      2733.40        1515.07\n",
       "132595    72135616    2022-08-28      1551.56        1080.38\n",
       "132596    72135617    2022-08-28      1692.38        1416.63\n",
       "\n",
       "[38176 rows x 4 columns]"
      ]
     },
     "execution_count": 39,
     "metadata": {},
     "output_type": "execute_result"
    }
   ],
   "source": [
    "df_weekend = pd.concat([df_primer_weekend, df_segundo_weekend, df_tercer_weekend, df_cuarto_weekend])\n",
    "df_weekend"
   ]
  },
  {
   "cell_type": "markdown",
   "id": "b494706d",
   "metadata": {},
   "source": [
    "## Ganancias los fines de semana"
   ]
  },
  {
   "cell_type": "code",
   "execution_count": 42,
   "id": "3e082772",
   "metadata": {},
   "outputs": [],
   "source": [
    "ganancia_weekend = df_weekend.pvp_reserva.sum()-df_weekend.coste_reserva.sum()"
   ]
  },
  {
   "cell_type": "code",
   "execution_count": 43,
   "id": "870461be",
   "metadata": {},
   "outputs": [
    {
     "name": "stdout",
     "output_type": "stream",
     "text": [
      "1251720.5300000012\n"
     ]
    }
   ],
   "source": [
    "print(ganancia_weekend)"
   ]
  },
  {
   "cell_type": "markdown",
   "id": "934b642a",
   "metadata": {},
   "source": [
    "## Ganancias entre semana"
   ]
  },
  {
   "cell_type": "code",
   "execution_count": 45,
   "id": "f07c5981",
   "metadata": {},
   "outputs": [],
   "source": [
    "ganancias_non_weekend = Ganancias_mes - ganancia_weekend"
   ]
  },
  {
   "cell_type": "code",
   "execution_count": 46,
   "id": "a9e432b7",
   "metadata": {},
   "outputs": [
    {
     "name": "stdout",
     "output_type": "stream",
     "text": [
      "4263035.330000013\n"
     ]
    }
   ],
   "source": [
    "print(ganancias_non_weekend)"
   ]
  }
 ],
 "metadata": {
  "kernelspec": {
   "display_name": "Python 3 (ipykernel)",
   "language": "python",
   "name": "python3"
  },
  "language_info": {
   "codemirror_mode": {
    "name": "ipython",
    "version": 3
   },
   "file_extension": ".py",
   "mimetype": "text/x-python",
   "name": "python",
   "nbconvert_exporter": "python",
   "pygments_lexer": "ipython3",
   "version": "3.9.12"
  }
 },
 "nbformat": 4,
 "nbformat_minor": 5
}
